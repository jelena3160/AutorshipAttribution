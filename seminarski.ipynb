{
 "cells": [
  {
   "cell_type": "code",
   "execution_count": 51,
   "metadata": {},
   "outputs": [],
   "source": [
    "import pandas as pd"
   ]
  },
  {
   "cell_type": "code",
   "execution_count": 52,
   "metadata": {},
   "outputs": [
    {
     "data": {
      "text/html": [
       "<div>\n",
       "<style scoped>\n",
       "    .dataframe tbody tr th:only-of-type {\n",
       "        vertical-align: middle;\n",
       "    }\n",
       "\n",
       "    .dataframe tbody tr th {\n",
       "        vertical-align: top;\n",
       "    }\n",
       "\n",
       "    .dataframe thead th {\n",
       "        text-align: right;\n",
       "    }\n",
       "</style>\n",
       "<table border=\"1\" class=\"dataframe\">\n",
       "  <thead>\n",
       "    <tr style=\"text-align: right;\">\n",
       "      <th></th>\n",
       "      <th>Jezik</th>\n",
       "      <th>Autor</th>\n",
       "      <th>Naslov</th>\n",
       "      <th>Tekst</th>\n",
       "    </tr>\n",
       "  </thead>\n",
       "  <tbody>\n",
       "    <tr>\n",
       "      <th>0</th>\n",
       "      <td>sr</td>\n",
       "      <td>1</td>\n",
       "      <td>Padajte braćo</td>\n",
       "      <td>Padajte, braćo, plin'te u krvi! Ostav'te sela ...</td>\n",
       "    </tr>\n",
       "    <tr>\n",
       "      <th>1</th>\n",
       "      <td>sr</td>\n",
       "      <td>1</td>\n",
       "      <td>Gospođici L</td>\n",
       "      <td>Mudraci su prinosili dara: Smirnu, zlato, caru...</td>\n",
       "    </tr>\n",
       "    <tr>\n",
       "      <th>2</th>\n",
       "      <td>sr</td>\n",
       "      <td>1</td>\n",
       "      <td>Gospođici u spomen</td>\n",
       "      <td>Mnogi me je dosad zapitkiv’o: sa čega sam srca...</td>\n",
       "    </tr>\n",
       "    <tr>\n",
       "      <th>3</th>\n",
       "      <td>sr</td>\n",
       "      <td>1</td>\n",
       "      <td>Ja sam stena</td>\n",
       "      <td>Ja sam stena, o koju se zloba mori, svetska ču...</td>\n",
       "    </tr>\n",
       "    <tr>\n",
       "      <th>4</th>\n",
       "      <td>sr</td>\n",
       "      <td>1</td>\n",
       "      <td>Kroz ponoć nemu</td>\n",
       "      <td>Kroz ponoć nemu i gusto granje vidi se zvezda ...</td>\n",
       "    </tr>\n",
       "    <tr>\n",
       "      <th>...</th>\n",
       "      <td>...</td>\n",
       "      <td>...</td>\n",
       "      <td>...</td>\n",
       "      <td>...</td>\n",
       "    </tr>\n",
       "    <tr>\n",
       "      <th>66</th>\n",
       "      <td>sr</td>\n",
       "      <td>13</td>\n",
       "      <td>Pesma o keruši</td>\n",
       "      <td>Jutros u košari, gde sja, šuška niz rogoza žuć...</td>\n",
       "    </tr>\n",
       "    <tr>\n",
       "      <th>67</th>\n",
       "      <td>sr</td>\n",
       "      <td>13</td>\n",
       "      <td>Pismo majci</td>\n",
       "      <td>Jesi l živa, staričice moja? Sin tvoj živi i p...</td>\n",
       "    </tr>\n",
       "    <tr>\n",
       "      <th>68</th>\n",
       "      <td>sr</td>\n",
       "      <td>14</td>\n",
       "      <td>Barbara</td>\n",
       "      <td>Sećaš li se Barbara, padala je kiša neprestana...</td>\n",
       "    </tr>\n",
       "    <tr>\n",
       "      <th>69</th>\n",
       "      <td>sr</td>\n",
       "      <td>14</td>\n",
       "      <td>Poljubi me</td>\n",
       "      <td>To je bilo u jednom kvartu Grada Svetlosti gde...</td>\n",
       "    </tr>\n",
       "    <tr>\n",
       "      <th>70</th>\n",
       "      <td>sr</td>\n",
       "      <td>15</td>\n",
       "      <td>Milkina kuća na kraju</td>\n",
       "      <td>Ja pođo snužden kraj dola, pak stado malo kod ...</td>\n",
       "    </tr>\n",
       "  </tbody>\n",
       "</table>\n",
       "<p>71 rows × 4 columns</p>\n",
       "</div>"
      ],
      "text/plain": [
       "   Jezik  Autor                 Naslov  \\\n",
       "0     sr      1          Padajte braćo   \n",
       "1     sr      1            Gospođici L   \n",
       "2     sr      1     Gospođici u spomen   \n",
       "3     sr      1           Ja sam stena   \n",
       "4     sr      1        Kroz ponoć nemu   \n",
       "..   ...    ...                    ...   \n",
       "66    sr     13         Pesma o keruši   \n",
       "67    sr     13            Pismo majci   \n",
       "68    sr     14                Barbara   \n",
       "69    sr     14             Poljubi me   \n",
       "70    sr     15  Milkina kuća na kraju   \n",
       "\n",
       "                                                Tekst  \n",
       "0   Padajte, braćo, plin'te u krvi! Ostav'te sela ...  \n",
       "1   Mudraci su prinosili dara: Smirnu, zlato, caru...  \n",
       "2   Mnogi me je dosad zapitkiv’o: sa čega sam srca...  \n",
       "3   Ja sam stena, o koju se zloba mori, svetska ču...  \n",
       "4   Kroz ponoć nemu i gusto granje vidi se zvezda ...  \n",
       "..                                                ...  \n",
       "66  Jutros u košari, gde sja, šuška niz rogoza žuć...  \n",
       "67  Jesi l živa, staričice moja? Sin tvoj živi i p...  \n",
       "68  Sećaš li se Barbara, padala je kiša neprestana...  \n",
       "69  To je bilo u jednom kvartu Grada Svetlosti gde...  \n",
       "70  Ja pođo snužden kraj dola, pak stado malo kod ...  \n",
       "\n",
       "[71 rows x 4 columns]"
      ]
     },
     "execution_count": 52,
     "metadata": {},
     "output_type": "execute_result"
    }
   ],
   "source": [
    "df = pd.read_csv('srpski1.csv', sep='\\t')\n",
    "df = df.drop(columns=['Rbr', 'SR', 'sr/sr'])\n",
    "df\n"
   ]
  },
  {
   "cell_type": "code",
   "execution_count": 53,
   "metadata": {},
   "outputs": [],
   "source": [
    "for column in df.columns:\n",
    "    if df[column].dtype == 'object':\n",
    "        df[column] = df[column].str.lower()"
   ]
  },
  {
   "cell_type": "code",
   "execution_count": 127,
   "metadata": {},
   "outputs": [
    {
     "name": "stderr",
     "output_type": "stream",
     "text": [
      "[nltk_data] Downloading package punkt to\n",
      "[nltk_data]     /Users/jelenalazovic/nltk_data...\n",
      "[nltk_data]   Package punkt is already up-to-date!\n"
     ]
    },
    {
     "data": {
      "text/plain": [
       "True"
      ]
     },
     "execution_count": 127,
     "metadata": {},
     "output_type": "execute_result"
    }
   ],
   "source": [
    "import nltk\n",
    "from nltk.tokenize import word_tokenize, RegexpTokenizer\n",
    "nltk.download('punkt')\n"
   ]
  },
  {
   "cell_type": "code",
   "execution_count": 150,
   "metadata": {},
   "outputs": [],
   "source": [
    "\n",
    "custom_tokenizer = RegexpTokenizer(r'\\w+[\\'\\’]\\w+|\\w+')"
   ]
  },
  {
   "cell_type": "code",
   "execution_count": 151,
   "metadata": {},
   "outputs": [],
   "source": [
    "serbian_stopwords = ['i', 'a', 'ali', 'u', 'na', 'sa', 'od', 'do', 'kako', 'ako', 'ili', 'za', 'od', 'pod', 'nad']\n",
    "punctuation = ['.', ',', '``', \"'\", \"''\",'...','—',\"-\",';', ':' ]"
   ]
  },
  {
   "cell_type": "code",
   "execution_count": 152,
   "metadata": {},
   "outputs": [],
   "source": [
    "def remove_serbian_stopwords_and_punctuation(text): \n",
    "    tokens = custom_tokenizer.tokenize(text)\n",
    "    filtered_tokens = [word for word in tokens if word not in serbian_stopwords and word not in punctuation]\n",
    "    return filtered_tokens"
   ]
  },
  {
   "cell_type": "code",
   "execution_count": 153,
   "metadata": {},
   "outputs": [],
   "source": [
    "df['Tokeni'] = df['Tekst'].apply(remove_serbian_stopwords_and_punctuation)"
   ]
  },
  {
   "cell_type": "code",
   "execution_count": null,
   "metadata": {},
   "outputs": [],
   "source": []
  }
 ],
 "metadata": {
  "kernelspec": {
   "display_name": "Python 3.9.6 64-bit",
   "language": "python",
   "name": "python3"
  },
  "language_info": {
   "codemirror_mode": {
    "name": "ipython",
    "version": 3
   },
   "file_extension": ".py",
   "mimetype": "text/x-python",
   "name": "python",
   "nbconvert_exporter": "python",
   "pygments_lexer": "ipython3",
   "version": "3.9.6"
  },
  "orig_nbformat": 4,
  "vscode": {
   "interpreter": {
    "hash": "31f2aee4e71d21fbe5cf8b01ff0e069b9275f58929596ceb00d14d90e3e16cd6"
   }
  }
 },
 "nbformat": 4,
 "nbformat_minor": 2
}
