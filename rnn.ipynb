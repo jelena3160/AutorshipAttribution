{
 "cells": [
  {
   "cell_type": "code",
   "execution_count": 1,
   "metadata": {},
   "outputs": [
    {
     "name": "stderr",
     "output_type": "stream",
     "text": [
      "/Users/jelenalazovic/Desktop/AutorshipAttribution/env/lib/python3.9/site-packages/urllib3/__init__.py:34: NotOpenSSLWarning: urllib3 v2 only supports OpenSSL 1.1.1+, currently the 'ssl' module is compiled with 'LibreSSL 2.8.3'. See: https://github.com/urllib3/urllib3/issues/3020\n",
      "  warnings.warn(\n"
     ]
    }
   ],
   "source": [
    "import pandas as pd\n",
    "from tensorflow.keras.models import Sequential\n",
    "from tensorflow.keras.layers import Embedding, LSTM, Dense\n",
    "from tensorflow.keras.preprocessing.text import Tokenizer\n",
    "from tensorflow.keras.preprocessing.sequence import pad_sequences\n",
    "from tensorflow.keras.callbacks import EarlyStopping\n",
    "from sklearn.model_selection import train_test_split\n"
   ]
  },
  {
   "cell_type": "code",
   "execution_count": 2,
   "metadata": {},
   "outputs": [],
   "source": [
    "\n",
    "df = pd.read_csv('srpski.csv', sep='\\t')\n",
    "\n",
    "df = df.drop(columns=['Rbr', 'SR', 'sr/sr', 'Naslov', 'Jezik'])\n",
    "for column in df.columns:\n",
    "    if df[column].dtype == 'object':\n",
    "        df[column] = df[column].str.lower()\n"
   ]
  },
  {
   "cell_type": "code",
   "execution_count": 3,
   "metadata": {},
   "outputs": [],
   "source": [
    "\n",
    "max_text_length = df['Tekst'].apply(lambda x: len(str(x).split())).max()\n",
    "\n",
    "X_train, X_test, y_train, y_test = train_test_split(df['Tekst'], df['Autor'], test_size=0.2, random_state=42, stratify=df['Autor'])\n"
   ]
  },
  {
   "cell_type": "code",
   "execution_count": 4,
   "metadata": {},
   "outputs": [],
   "source": [
    "early_stopping = EarlyStopping(\n",
    "    patience=3,  \n",
    "    monitor='accuracy',  \n",
    "    restore_best_weights=True  \n",
    ")\n"
   ]
  },
  {
   "cell_type": "code",
   "execution_count": 5,
   "metadata": {},
   "outputs": [],
   "source": [
    "tokenizer = Tokenizer()\n",
    "tokenizer.fit_on_texts(X_train)\n",
    "sequences = tokenizer.texts_to_sequences(X_train)\n",
    "X = pad_sequences(sequences, maxlen=max_text_length)\n"
   ]
  },
  {
   "cell_type": "code",
   "execution_count": 6,
   "metadata": {},
   "outputs": [
    {
     "name": "stdout",
     "output_type": "stream",
     "text": [
      "Epoch 1/10\n",
      "3/3 [==============================] - 8s 3s/step - loss: 2.7057 - accuracy: 0.0909 - val_loss: 2.7074 - val_accuracy: 0.0909\n",
      "Epoch 2/10\n",
      "3/3 [==============================] - 7s 2s/step - loss: 2.6920 - accuracy: 0.3068 - val_loss: 2.7069 - val_accuracy: 0.0909\n",
      "Epoch 3/10\n",
      "3/3 [==============================] - 7s 2s/step - loss: 2.6773 - accuracy: 0.2386 - val_loss: 2.7070 - val_accuracy: 0.0455\n",
      "Epoch 4/10\n",
      "3/3 [==============================] - 7s 2s/step - loss: 2.6557 - accuracy: 0.1591 - val_loss: 2.7106 - val_accuracy: 0.0455\n",
      "Epoch 5/10\n",
      "3/3 [==============================] - 7s 2s/step - loss: 2.6181 - accuracy: 0.1023 - val_loss: 2.8205 - val_accuracy: 0.0455\n"
     ]
    },
    {
     "data": {
      "text/plain": [
       "<keras.src.callbacks.History at 0x291c69c70>"
      ]
     },
     "execution_count": 6,
     "metadata": {},
     "output_type": "execute_result"
    }
   ],
   "source": [
    "\n",
    "model = Sequential()\n",
    "model.add(Embedding(input_dim=len(tokenizer.word_index) + 1, output_dim=50, input_length=max_text_length))\n",
    "model.add(LSTM(100))\n",
    "model.add(Dense(len(set(df['Autor']))+1, activation='softmax'))\n",
    "\n",
    "model.compile(loss='sparse_categorical_crossentropy', optimizer='adam', metrics=['accuracy'])\n",
    "\n",
    "\n",
    "model.fit(X, y_train, epochs=10, validation_split=0.2, callbacks=early_stopping)\n",
    "\n"
   ]
  },
  {
   "cell_type": "code",
   "execution_count": 7,
   "metadata": {},
   "outputs": [
    {
     "name": "stdout",
     "output_type": "stream",
     "text": [
      "4/4 [==============================] - 2s 430ms/step\n",
      "1/1 [==============================] - 0s 462ms/step\n",
      "4/4 [==============================] - 2s 431ms/step - loss: 2.6861 - accuracy: 0.2455\n",
      "1/1 [==============================] - 0s 458ms/step - loss: 2.7030 - accuracy: 0.0714\n"
     ]
    }
   ],
   "source": [
    "\n",
    "new_sequences = tokenizer.texts_to_sequences(X_test)\n",
    "new_X = pad_sequences(new_sequences, maxlen=max_text_length)\n",
    "\n",
    "predictions_train = model.predict(X)\n",
    "predictions_test = model.predict(new_X)\n",
    "\n",
    "evaluation_train = model.evaluate(X, y_train)\n",
    "evaluation_test = model.evaluate(new_X, y_test)"
   ]
  },
  {
   "cell_type": "code",
   "execution_count": 8,
   "metadata": {},
   "outputs": [
    {
     "data": {
      "text/plain": [
       "0.2454545497894287"
      ]
     },
     "execution_count": 8,
     "metadata": {},
     "output_type": "execute_result"
    }
   ],
   "source": [
    "evaluation_train[1]"
   ]
  },
  {
   "cell_type": "code",
   "execution_count": 9,
   "metadata": {},
   "outputs": [
    {
     "data": {
      "text/plain": [
       "0.0714285746216774"
      ]
     },
     "execution_count": 9,
     "metadata": {},
     "output_type": "execute_result"
    }
   ],
   "source": [
    "evaluation_test[1]"
   ]
  }
 ],
 "metadata": {
  "kernelspec": {
   "display_name": "Python 3.9.6 ('env': virtualenv)",
   "language": "python",
   "name": "python3"
  },
  "language_info": {
   "codemirror_mode": {
    "name": "ipython",
    "version": 3
   },
   "file_extension": ".py",
   "mimetype": "text/x-python",
   "name": "python",
   "nbconvert_exporter": "python",
   "pygments_lexer": "ipython3",
   "version": "3.9.6"
  },
  "orig_nbformat": 4,
  "vscode": {
   "interpreter": {
    "hash": "9548905da12920b95f5c1e70cc58be8e801e9ae4b418d879188f7ef7b62e3fc6"
   }
  }
 },
 "nbformat": 4,
 "nbformat_minor": 2
}
