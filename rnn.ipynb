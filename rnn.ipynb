{
 "cells": [
  {
   "cell_type": "code",
   "execution_count": 4,
   "metadata": {},
   "outputs": [
    {
     "name": "stdout",
     "output_type": "stream",
     "text": [
      "Epoch 1/10\n",
      "3/3 [==============================] - 8s 2s/step - loss: 2.7066 - accuracy: 0.0909 - val_loss: 2.7082 - val_accuracy: 0.1364\n",
      "Epoch 2/10\n",
      "3/3 [==============================] - 7s 2s/step - loss: 2.6932 - accuracy: 0.2955 - val_loss: 2.7086 - val_accuracy: 0.0909\n",
      "Epoch 3/10\n",
      "3/3 [==============================] - 7s 2s/step - loss: 2.6793 - accuracy: 0.4545 - val_loss: 2.7101 - val_accuracy: 0.1364\n",
      "Epoch 4/10\n",
      "3/3 [==============================] - 7s 2s/step - loss: 2.6597 - accuracy: 0.3523 - val_loss: 2.7147 - val_accuracy: 0.0909\n",
      "Epoch 5/10\n",
      "3/3 [==============================] - 7s 2s/step - loss: 2.6245 - accuracy: 0.2045 - val_loss: 2.7592 - val_accuracy: 0.0909\n",
      "Epoch 6/10\n",
      "3/3 [==============================] - 7s 2s/step - loss: 2.5820 - accuracy: 0.1250 - val_loss: 2.9810 - val_accuracy: 0.0909\n",
      "1/1 [==============================] - 1s 748ms/step\n",
      "1/1 [==============================] - 1s 501ms/step - loss: 2.6939 - accuracy: 0.1071\n"
     ]
    }
   ],
   "source": [
    "import pandas as pd\n",
    "from tensorflow.keras.models import Sequential\n",
    "from tensorflow.keras.layers import Embedding, LSTM, Dense\n",
    "from tensorflow.keras.preprocessing.text import Tokenizer\n",
    "from tensorflow.keras.preprocessing.sequence import pad_sequences\n",
    "from tensorflow.keras.callbacks import EarlyStopping\n",
    "from sklearn.model_selection import train_test_split\n"
   ]
  },
  {
   "cell_type": "code",
   "execution_count": null,
   "metadata": {},
   "outputs": [],
   "source": [
    "\n",
    "df = pd.read_csv('srpski.csv', sep='\\t')\n",
    "\n",
    "df = df.drop(columns=['Rbr', 'SR', 'sr/sr', 'Naslov', 'Jezik'])\n",
    "for column in df.columns:\n",
    "    if df[column].dtype == 'object':\n",
    "        df[column] = df[column].str.lower()\n"
   ]
  },
  {
   "cell_type": "code",
   "execution_count": null,
   "metadata": {},
   "outputs": [],
   "source": [
    "\n",
    "max_text_length = df['Tekst'].apply(lambda x: len(str(x).split())).max()\n",
    "\n",
    "X_train, X_test, y_train, y_test = train_test_split(df['Tekst'], df['Autor'], test_size=0.2, random_state=42, stratify=df['Autor'])\n"
   ]
  },
  {
   "cell_type": "code",
   "execution_count": null,
   "metadata": {},
   "outputs": [],
   "source": [
    "\n",
    "\n",
    "early_stopping = EarlyStopping(\n",
    "    patience=3,  \n",
    "    monitor='accuracy',  \n",
    "    restore_best_weights=True  \n",
    ")\n"
   ]
  },
  {
   "cell_type": "code",
   "execution_count": null,
   "metadata": {},
   "outputs": [],
   "source": [
    "\n",
    "\n",
    "tokenizer = Tokenizer()\n",
    "tokenizer.fit_on_texts(X_train)\n",
    "sequences = tokenizer.texts_to_sequences(X_train)\n",
    "X = pad_sequences(sequences, maxlen=max_text_length)\n",
    "\n"
   ]
  },
  {
   "cell_type": "code",
   "execution_count": null,
   "metadata": {},
   "outputs": [],
   "source": [
    "\n",
    "model = Sequential()\n",
    "model.add(Embedding(input_dim=len(tokenizer.word_index) + 1, output_dim=50, input_length=max_text_length))\n",
    "model.add(LSTM(100))\n",
    "model.add(Dense(len(set(df['Autor']))+1, activation='softmax'))\n",
    "\n",
    "model.compile(loss='sparse_categorical_crossentropy', optimizer='adam', metrics=['accuracy'])\n",
    "\n",
    "\n",
    "model.fit(X, y_train, epochs=10, validation_split=0.2, callbacks=early_stopping)\n",
    "\n"
   ]
  },
  {
   "cell_type": "code",
   "execution_count": null,
   "metadata": {},
   "outputs": [],
   "source": [
    "\n",
    "new_sequences = tokenizer.texts_to_sequences(X_test)\n",
    "new_X = pad_sequences(new_sequences, maxlen=max_text_length)\n",
    "\n",
    "predictions = model.predict(new_X)\n",
    "\n",
    "evaluation_result = model.evaluate(new_X, y_test)"
   ]
  },
  {
   "cell_type": "code",
   "execution_count": 6,
   "metadata": {},
   "outputs": [
    {
     "data": {
      "text/plain": [
       "0.1071428582072258"
      ]
     },
     "execution_count": 6,
     "metadata": {},
     "output_type": "execute_result"
    }
   ],
   "source": [
    "evaluation_result[1]"
   ]
  },
  {
   "cell_type": "code",
   "execution_count": null,
   "metadata": {},
   "outputs": [],
   "source": []
  }
 ],
 "metadata": {
  "kernelspec": {
   "display_name": "Python 3.9.6 ('env': venv)",
   "language": "python",
   "name": "python3"
  },
  "language_info": {
   "codemirror_mode": {
    "name": "ipython",
    "version": 3
   },
   "file_extension": ".py",
   "mimetype": "text/x-python",
   "name": "python",
   "nbconvert_exporter": "python",
   "pygments_lexer": "ipython3",
   "version": "3.9.6"
  },
  "orig_nbformat": 4,
  "vscode": {
   "interpreter": {
    "hash": "0fed891f0f39c693a1b845aefd197cf9be2347fa8ca49a7dc47460742f6cfbc8"
   }
  }
 },
 "nbformat": 4,
 "nbformat_minor": 2
}
