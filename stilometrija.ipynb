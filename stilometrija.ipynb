{
 "cells": [
  {
   "cell_type": "code",
   "execution_count": 27,
   "metadata": {},
   "outputs": [],
   "source": [
    "import pandas as pd\n",
    "import matplotlib.pyplot as plt\n"
   ]
  },
  {
   "cell_type": "code",
   "execution_count": 28,
   "metadata": {},
   "outputs": [
    {
     "data": {
      "text/html": [
       "<div>\n",
       "<style scoped>\n",
       "    .dataframe tbody tr th:only-of-type {\n",
       "        vertical-align: middle;\n",
       "    }\n",
       "\n",
       "    .dataframe tbody tr th {\n",
       "        vertical-align: top;\n",
       "    }\n",
       "\n",
       "    .dataframe thead th {\n",
       "        text-align: right;\n",
       "    }\n",
       "</style>\n",
       "<table border=\"1\" class=\"dataframe\">\n",
       "  <thead>\n",
       "    <tr style=\"text-align: right;\">\n",
       "      <th></th>\n",
       "      <th>Autor</th>\n",
       "      <th>Tekst</th>\n",
       "    </tr>\n",
       "  </thead>\n",
       "  <tbody>\n",
       "    <tr>\n",
       "      <th>0</th>\n",
       "      <td>1</td>\n",
       "      <td>padajte, braćo, plin'te u krvi! ostav'te sela ...</td>\n",
       "    </tr>\n",
       "    <tr>\n",
       "      <th>1</th>\n",
       "      <td>1</td>\n",
       "      <td>mudraci su prinosili dara: smirnu, zlato, caru...</td>\n",
       "    </tr>\n",
       "    <tr>\n",
       "      <th>2</th>\n",
       "      <td>1</td>\n",
       "      <td>mnogi me je dosad zapitkiv’o: sa čega sam srca...</td>\n",
       "    </tr>\n",
       "    <tr>\n",
       "      <th>3</th>\n",
       "      <td>1</td>\n",
       "      <td>ja sam stena, o koju se zloba mori, svetska ču...</td>\n",
       "    </tr>\n",
       "    <tr>\n",
       "      <th>4</th>\n",
       "      <td>1</td>\n",
       "      <td>kroz ponoć nemu i gusto granje vidi se zvezda ...</td>\n",
       "    </tr>\n",
       "    <tr>\n",
       "      <th>...</th>\n",
       "      <td>...</td>\n",
       "      <td>...</td>\n",
       "    </tr>\n",
       "    <tr>\n",
       "      <th>133</th>\n",
       "      <td>2</td>\n",
       "      <td>ostale su za mnom bašte jorgovana, sjaj prolje...</td>\n",
       "    </tr>\n",
       "    <tr>\n",
       "      <th>134</th>\n",
       "      <td>2</td>\n",
       "      <td>popô si se sred milina, dvor ti zlato, svila k...</td>\n",
       "    </tr>\n",
       "    <tr>\n",
       "      <th>135</th>\n",
       "      <td>13</td>\n",
       "      <td>već sanduk zatvaraju čvrsto da večno budeš ple...</td>\n",
       "    </tr>\n",
       "    <tr>\n",
       "      <th>136</th>\n",
       "      <td>13</td>\n",
       "      <td>ne pitaj me o bosforu više, ja ti ne znam odgo...</td>\n",
       "    </tr>\n",
       "    <tr>\n",
       "      <th>137</th>\n",
       "      <td>13</td>\n",
       "      <td>ko sam? šta sam? ja sam samo sanjar, čiji pogl...</td>\n",
       "    </tr>\n",
       "  </tbody>\n",
       "</table>\n",
       "<p>138 rows × 2 columns</p>\n",
       "</div>"
      ],
      "text/plain": [
       "     Autor                                              Tekst\n",
       "0        1  padajte, braćo, plin'te u krvi! ostav'te sela ...\n",
       "1        1  mudraci su prinosili dara: smirnu, zlato, caru...\n",
       "2        1  mnogi me je dosad zapitkiv’o: sa čega sam srca...\n",
       "3        1  ja sam stena, o koju se zloba mori, svetska ču...\n",
       "4        1  kroz ponoć nemu i gusto granje vidi se zvezda ...\n",
       "..     ...                                                ...\n",
       "133      2  ostale su za mnom bašte jorgovana, sjaj prolje...\n",
       "134      2  popô si se sred milina, dvor ti zlato, svila k...\n",
       "135     13  već sanduk zatvaraju čvrsto da večno budeš ple...\n",
       "136     13  ne pitaj me o bosforu više, ja ti ne znam odgo...\n",
       "137     13  ko sam? šta sam? ja sam samo sanjar, čiji pogl...\n",
       "\n",
       "[138 rows x 2 columns]"
      ]
     },
     "execution_count": 28,
     "metadata": {},
     "output_type": "execute_result"
    }
   ],
   "source": [
    "df = pd.read_csv('srpski.csv', sep='\\t')\n",
    "df = df.drop(columns=['Rbr', 'SR', 'sr/sr', 'Naslov', 'Jezik'])\n",
    "for column in df.columns:\n",
    "    if df[column].dtype == 'object':\n",
    "        df[column] = df[column].str.lower()\n",
    "df"
   ]
  },
  {
   "cell_type": "markdown",
   "metadata": {},
   "source": [
    "Tokenizacija reci i recenica\n"
   ]
  },
  {
   "cell_type": "code",
   "execution_count": 29,
   "metadata": {},
   "outputs": [
    {
     "name": "stderr",
     "output_type": "stream",
     "text": [
      "[nltk_data] Downloading package punkt to\n",
      "[nltk_data]     /Users/jelenalazovic/nltk_data...\n",
      "[nltk_data]   Package punkt is already up-to-date!\n"
     ]
    },
    {
     "data": {
      "text/plain": [
       "True"
      ]
     },
     "execution_count": 29,
     "metadata": {},
     "output_type": "execute_result"
    }
   ],
   "source": [
    "import re\n",
    "import nltk\n",
    "from nltk.tokenize import word_tokenize, RegexpTokenizer, sent_tokenize\n",
    "from nltk.tokenize.punkt import PunktSentenceTokenizer, PunktLanguageVars\n",
    "\n",
    "nltk.download('punkt')"
   ]
  },
  {
   "cell_type": "code",
   "execution_count": 30,
   "metadata": {},
   "outputs": [],
   "source": [
    "class LangVars(PunktLanguageVars):\n",
    "    sent_end_chars = ('.', '!', '?', ';', \":\", \"...\", '..','…')\n",
    "custom_sent_tokenizer = PunktSentenceTokenizer(lang_vars=LangVars())\n",
    "df['Recenice'] = df['Tekst'].apply(custom_sent_tokenizer.tokenize)"
   ]
  },
  {
   "cell_type": "code",
   "execution_count": 31,
   "metadata": {},
   "outputs": [],
   "source": [
    "custom_tokenizer = RegexpTokenizer(r'\\w+[\\'\\’]*\\w*|[^\\w\\s]')\n",
    "df['Tokeni'] = df['Tekst'].apply(custom_tokenizer.tokenize)"
   ]
  },
  {
   "cell_type": "code",
   "execution_count": 32,
   "metadata": {},
   "outputs": [],
   "source": [
    "punctuation = r'[^\\w\\s]'\n",
    "def remove_punctuation(tokens): \n",
    "    filtered_tokens = [word for word in tokens if not re.match(punctuation, word)]\n",
    "    return filtered_tokens\n",
    "\n",
    "df['Filtrirani tokeni'] = df['Tokeni'].apply(remove_punctuation)"
   ]
  },
  {
   "cell_type": "code",
   "execution_count": 33,
   "metadata": {},
   "outputs": [],
   "source": [
    "from nltk import FreqDist"
   ]
  },
  {
   "cell_type": "code",
   "execution_count": 34,
   "metadata": {},
   "outputs": [],
   "source": [
    "all_words = [word for words in df['Filtrirani tokeni'] for word in words]\n",
    "fdist = FreqDist(all_words)\n",
    "stopwords = [word for word, count in fdist.items() if count > 50 or (len(word) in (1,2,3) and count > 20)]"
   ]
  },
  {
   "cell_type": "code",
   "execution_count": 35,
   "metadata": {},
   "outputs": [],
   "source": [
    "def remove_stopwords(tokens):\n",
    "    filtered_tokens = [word for word in tokens if word not in stopwords]\n",
    "    return filtered_tokens\n",
    "\n",
    "#df['Filtrirani tokeni'] = df['Filtrirani tokeni'].apply(remove_stopwords)"
   ]
  },
  {
   "cell_type": "markdown",
   "metadata": {},
   "source": [
    "Podela podataka na trening i test"
   ]
  },
  {
   "cell_type": "code",
   "execution_count": 36,
   "metadata": {},
   "outputs": [],
   "source": [
    "from sklearn.model_selection import train_test_split"
   ]
  },
  {
   "cell_type": "code",
   "execution_count": 37,
   "metadata": {},
   "outputs": [],
   "source": [
    "X = df[['Tekst', 'Recenice', 'Tokeni','Filtrirani tokeni']]\n",
    "y = df['Autor']\n",
    "X_train, X_test, y_train, y_test = train_test_split(X, y, test_size=0.3, random_state=42, stratify=y)"
   ]
  },
  {
   "cell_type": "markdown",
   "metadata": {},
   "source": [
    "Stilometrijske analize"
   ]
  },
  {
   "cell_type": "code",
   "execution_count": 38,
   "metadata": {},
   "outputs": [],
   "source": [
    "df_train = pd.concat([X_train, y_train], axis=1)\n",
    "df_test = pd.concat([X_test, y_test], axis=1)\n"
   ]
  },
  {
   "cell_type": "code",
   "execution_count": 39,
   "metadata": {},
   "outputs": [],
   "source": [
    "def average_word_length(words):\n",
    "    return sum(len(word) for word in words) / len(words)\n",
    "\n",
    "df_train['Duzina reci'] = df_train['Filtrirani tokeni'].apply(average_word_length)\n",
    "df_test['Duzina reci'] = df_test['Filtrirani tokeni'].apply(average_word_length)\n"
   ]
  },
  {
   "cell_type": "code",
   "execution_count": 40,
   "metadata": {},
   "outputs": [],
   "source": [
    "df_avgWordLength = df_train.groupby('Autor')['Duzina reci'].mean().reset_index()"
   ]
  },
  {
   "cell_type": "code",
   "execution_count": 41,
   "metadata": {},
   "outputs": [],
   "source": [
    "import matplotlib.pyplot as plt\n"
   ]
  },
  {
   "cell_type": "code",
   "execution_count": 42,
   "metadata": {},
   "outputs": [
    {
     "data": {
      "image/png": "[encoded data removed]",
      "text/plain": [
       "<Figure size 640x480 with 1 Axes>"
      ]
     },
     "metadata": {},
     "output_type": "display_data"
    }
   ],
   "source": [
    "plt.bar(df_avgWordLength['Autor'], df_avgWordLength['Duzina reci'])\n",
    "plt.xlabel('Autor')\n",
    "plt.ylabel('Dužina reči')\n",
    "plt.show()"
   ]
  },
  {
   "cell_type": "code",
   "execution_count": 43,
   "metadata": {},
   "outputs": [],
   "source": [
    "def average_sentence_length(sentences):\n",
    "    return sum(len(sentence.split()) for sentence in sentences) / len(sentences)\n",
    "\n",
    "df_train['Duzina recenica'] = df_train['Recenice'].apply(average_sentence_length)\n",
    "df_test['Duzina recenica'] = df_test['Recenice'].apply(average_sentence_length)\n"
   ]
  },
  {
   "cell_type": "code",
   "execution_count": 44,
   "metadata": {},
   "outputs": [],
   "source": [
    "df_avgSentLength = df_train.groupby('Autor')['Duzina recenica'].mean().reset_index()\n"
   ]
  },
  {
   "cell_type": "code",
   "execution_count": 45,
   "metadata": {},
   "outputs": [
    {
     "data": {
      "image/png": "[encoded data removed]",
      "text/plain": [
       "<Figure size 640x480 with 1 Axes>"
      ]
     },
     "metadata": {},
     "output_type": "display_data"
    }
   ],
   "source": [
    "plt.bar(df_avgSentLength['Autor'], df_avgSentLength['Duzina recenica'], color='cyan')\n",
    "plt.xlabel('Autor')\n",
    "plt.ylabel('Dužina rečenice')\n",
    "plt.show()"
   ]
  },
  {
   "cell_type": "code",
   "execution_count": 46,
   "metadata": {},
   "outputs": [],
   "source": [
    "def text_length(words):\n",
    "    return sum(len(word) for word in words)\n",
    "df_train['Duzina teksta'] = df_train['Tokeni'].apply(text_length)\n",
    "df_test['Duzina teksta'] = df_test['Tokeni'].apply(text_length)"
   ]
  },
  {
   "cell_type": "code",
   "execution_count": 47,
   "metadata": {},
   "outputs": [],
   "source": [
    "df_avgTextLength = df_train.groupby('Autor')['Duzina teksta'].mean().reset_index()\n"
   ]
  },
  {
   "cell_type": "code",
   "execution_count": 48,
   "metadata": {},
   "outputs": [
    {
     "data": {
      "image/png": "[encoded data removed]",
      "text/plain": [
       "<Figure size 640x480 with 1 Axes>"
      ]
     },
     "metadata": {},
     "output_type": "display_data"
    }
   ],
   "source": [
    "plt.bar(df_avgTextLength['Autor'], df_avgTextLength['Duzina teksta'], color='orange')\n",
    "plt.xlabel('Autor')\n",
    "plt.ylabel('Dužina teksta')\n",
    "plt.show()"
   ]
  },
  {
   "cell_type": "code",
   "execution_count": 49,
   "metadata": {},
   "outputs": [
    {
     "data": {
      "text/plain": [
       "0.2619047619047619"
      ]
     },
     "execution_count": 49,
     "metadata": {},
     "output_type": "execute_result"
    }
   ],
   "source": [
    "from sklearn.ensemble import RandomForestClassifier\n",
    "from sklearn.metrics import accuracy_score\n",
    "model = RandomForestClassifier(max_depth=5,min_samples_split=15, n_estimators=300)\n",
    "model.fit(df_train[['Duzina reci', 'Duzina recenica', 'Duzina teksta']],df_train['Autor'])\n",
    "y_pred = model.predict(df_test[['Duzina reci', 'Duzina recenica', 'Duzina teksta']])\n",
    "report = accuracy_score(df_test['Autor'], y_pred)\n",
    "report"
   ]
  },
  {
   "cell_type": "code",
   "execution_count": 50,
   "metadata": {},
   "outputs": [
    {
     "data": {
      "text/plain": [
       "0.14285714285714285"
      ]
     },
     "execution_count": 50,
     "metadata": {},
     "output_type": "execute_result"
    }
   ],
   "source": [
    "from sklearn.naive_bayes import MultinomialNB\n",
    "\n",
    "classifierMB = MultinomialNB()\n",
    "#df_random = pd.DataFrame(X_train.toarray(), columns= vectorizer.get_feature_names_out())\n",
    "classifierMB.fit(df_train[['Duzina reci', 'Duzina recenica', 'Duzina teksta']],df_train['Autor'])\n",
    "y_pred = classifierMB.predict(df_test[['Duzina reci','Duzina recenica', 'Duzina teksta']])\n",
    "report = accuracy_score(df_test['Autor'], y_pred)\n",
    "report"
   ]
  },
  {
   "cell_type": "code",
   "execution_count": null,
   "metadata": {},
   "outputs": [],
   "source": []
  }
 ],
 "metadata": {
  "kernelspec": {
   "display_name": "Python 3.9.6 64-bit",
   "language": "python",
   "name": "python3"
  },
  "language_info": {
   "codemirror_mode": {
    "name": "ipython",
    "version": 3
   },
   "file_extension": ".py",
   "mimetype": "text/x-python",
   "name": "python",
   "nbconvert_exporter": "python",
   "pygments_lexer": "ipython3",
   "version": "3.9.6"
  },
  "orig_nbformat": 4,
  "vscode": {
   "interpreter": {
    "hash": "31f2aee4e71d21fbe5cf8b01ff0e069b9275f58929596ceb00d14d90e3e16cd6"
   }
  }
 },
 "nbformat": 4,
 "nbformat_minor": 2
}
