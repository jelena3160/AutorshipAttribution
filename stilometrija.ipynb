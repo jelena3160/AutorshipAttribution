{
 "cells": [
  {
   "cell_type": "code",
   "execution_count": 71,
   "metadata": {},
   "outputs": [],
   "source": [
    "import pandas as pd\n",
    "import matplotlib.pyplot as plt\n"
   ]
  },
  {
   "cell_type": "code",
   "execution_count": 72,
   "metadata": {},
   "outputs": [],
   "source": [
    "df = pd.read_csv('srpski.csv', sep='\\t')\n",
    "df = df.drop(columns=['Rbr', 'SR', 'sr/sr', 'Naslov', 'Jezik'])\n",
    "for column in df.columns:\n",
    "    if df[column].dtype == 'object':\n",
    "        df[column] = df[column].str.lower()"
   ]
  },
  {
   "cell_type": "markdown",
   "metadata": {},
   "source": [
    "Dodavanje duplikata"
   ]
  },
  {
   "cell_type": "code",
   "execution_count": 73,
   "metadata": {},
   "outputs": [],
   "source": [
    "author_counts = df['Autor'].value_counts()\n",
    "single_instance_authors = author_counts[author_counts == 1].index\n",
    "\n",
    "unique_authors_rows = df[df['Autor'].isin(single_instance_authors)].copy()\n",
    "df = pd.concat([df, unique_authors_rows], ignore_index=True)\n",
    "df['Autor'] = df['Autor'].astype('category').cat.codes\n"
   ]
  },
  {
   "cell_type": "markdown",
   "metadata": {},
   "source": [
    "Tokenizacija reci i recenica\n"
   ]
  },
  {
   "cell_type": "code",
   "execution_count": 74,
   "metadata": {},
   "outputs": [
    {
     "name": "stderr",
     "output_type": "stream",
     "text": [
      "[nltk_data] Downloading package punkt to\n",
      "[nltk_data]     /Users/jelenalazovic/nltk_data...\n",
      "[nltk_data]   Package punkt is already up-to-date!\n"
     ]
    },
    {
     "data": {
      "text/plain": [
       "True"
      ]
     },
     "execution_count": 74,
     "metadata": {},
     "output_type": "execute_result"
    }
   ],
   "source": [
    "import re\n",
    "import nltk\n",
    "from nltk.tokenize import word_tokenize, RegexpTokenizer, sent_tokenize\n",
    "from nltk.tokenize.punkt import PunktSentenceTokenizer, PunktLanguageVars\n",
    "\n",
    "nltk.download('punkt')"
   ]
  },
  {
   "cell_type": "code",
   "execution_count": 75,
   "metadata": {},
   "outputs": [],
   "source": [
    "class LangVars(PunktLanguageVars):\n",
    "    sent_end_chars = ('.', '!', '?', ';', \":\", \"...\", '..','…')\n",
    "custom_sent_tokenizer = PunktSentenceTokenizer(lang_vars=LangVars())\n",
    "df['Recenice'] = df['Tekst'].apply(custom_sent_tokenizer.tokenize)"
   ]
  },
  {
   "cell_type": "code",
   "execution_count": 76,
   "metadata": {},
   "outputs": [],
   "source": [
    "custom_tokenizer = RegexpTokenizer(r'\\w+[\\'\\’]*\\w*|[^\\w\\s]')\n",
    "df['Tokeni'] = df['Tekst'].apply(custom_tokenizer.tokenize)"
   ]
  },
  {
   "cell_type": "code",
   "execution_count": 77,
   "metadata": {},
   "outputs": [],
   "source": [
    "punctuation = r'[^\\w\\s]'\n",
    "def remove_punctuation(tokens): \n",
    "    filtered_tokens = [word for word in tokens if not re.match(punctuation, word)]\n",
    "    return filtered_tokens\n",
    "\n",
    "df['Filtrirani tokeni'] = df['Tokeni'].apply(remove_punctuation)"
   ]
  },
  {
   "cell_type": "code",
   "execution_count": 78,
   "metadata": {},
   "outputs": [],
   "source": [
    "from nltk import FreqDist"
   ]
  },
  {
   "cell_type": "code",
   "execution_count": 79,
   "metadata": {},
   "outputs": [],
   "source": [
    "all_words = [word for words in df['Filtrirani tokeni'] for word in words]\n",
    "fdist = FreqDist(all_words)\n",
    "stopwords = [word for word, count in fdist.items() if count > 50 or (len(word) in (1,2,3) and count > 20)]"
   ]
  },
  {
   "cell_type": "code",
   "execution_count": 80,
   "metadata": {},
   "outputs": [],
   "source": [
    "def remove_stopwords(tokens):\n",
    "    filtered_tokens = [word for word in tokens if word not in stopwords]\n",
    "    return filtered_tokens\n",
    "\n",
    "#df['Filtrirani tokeni'] = df['Filtrirani tokeni'].apply(remove_stopwords)"
   ]
  },
  {
   "cell_type": "markdown",
   "metadata": {},
   "source": [
    "Podela podataka na trening i test"
   ]
  },
  {
   "cell_type": "code",
   "execution_count": 81,
   "metadata": {},
   "outputs": [],
   "source": [
    "from sklearn.model_selection import train_test_split"
   ]
  },
  {
   "cell_type": "code",
   "execution_count": 82,
   "metadata": {},
   "outputs": [],
   "source": [
    "X = df[['Tekst', 'Recenice', 'Tokeni','Filtrirani tokeni']]\n",
    "y = df['Autor']\n",
    "X_train, X_test, y_train, y_test = train_test_split(X, y, test_size=0.3, random_state=42, stratify=y)"
   ]
  },
  {
   "cell_type": "markdown",
   "metadata": {},
   "source": [
    "Stilometrijske analize"
   ]
  },
  {
   "cell_type": "code",
   "execution_count": 83,
   "metadata": {},
   "outputs": [],
   "source": [
    "df_train = pd.concat([X_train, y_train], axis=1)\n",
    "df_test = pd.concat([X_test, y_test], axis=1)\n"
   ]
  },
  {
   "cell_type": "code",
   "execution_count": 84,
   "metadata": {},
   "outputs": [],
   "source": [
    "def average_word_length(words):\n",
    "    return sum(len(word) for word in words) / len(words)\n",
    "\n",
    "df_train['Duzina reci'] = df_train['Filtrirani tokeni'].apply(average_word_length)\n",
    "df_test['Duzina reci'] = df_test['Filtrirani tokeni'].apply(average_word_length)\n"
   ]
  },
  {
   "cell_type": "code",
   "execution_count": 85,
   "metadata": {},
   "outputs": [],
   "source": [
    "df_avgWordLength = df_train.groupby('Autor')['Duzina reci'].mean().reset_index()"
   ]
  },
  {
   "cell_type": "code",
   "execution_count": 86,
   "metadata": {},
   "outputs": [],
   "source": [
    "import matplotlib.pyplot as plt\n"
   ]
  },
  {
   "cell_type": "code",
   "execution_count": 87,
   "metadata": {},
   "outputs": [
    {
     "data": {
      "image/png": "[encoded data removed]",
      "text/plain": [
       "<Figure size 640x480 with 1 Axes>"
      ]
     },
     "metadata": {},
     "output_type": "display_data"
    }
   ],
   "source": [
    "plt.bar(df_avgWordLength['Autor'], df_avgWordLength['Duzina reci'])\n",
    "plt.xlabel('Autor')\n",
    "plt.ylabel('Prosecna vrednost')\n",
    "plt.show()"
   ]
  },
  {
   "cell_type": "code",
   "execution_count": 88,
   "metadata": {},
   "outputs": [],
   "source": [
    "def average_sentence_length(sentences):\n",
    "    return sum(len(sentence.split()) for sentence in sentences) / len(sentences)\n",
    "\n",
    "df_train['Duzina recenica'] = df_train['Recenice'].apply(average_sentence_length)\n",
    "df_test['Duzina recenica'] = df_test['Recenice'].apply(average_sentence_length)\n"
   ]
  },
  {
   "cell_type": "code",
   "execution_count": 89,
   "metadata": {},
   "outputs": [],
   "source": [
    "df_avgSentLength = df_train.groupby('Autor')['Duzina recenica'].mean().reset_index()\n"
   ]
  },
  {
   "cell_type": "code",
   "execution_count": 90,
   "metadata": {},
   "outputs": [
    {
     "data": {
      "image/png": "[encoded data removed]",
      "text/plain": [
       "<Figure size 640x480 with 1 Axes>"
      ]
     },
     "metadata": {},
     "output_type": "display_data"
    }
   ],
   "source": [
    "plt.bar(df_avgSentLength['Autor'], df_avgSentLength['Duzina recenica'], color='cyan')\n",
    "plt.xlabel('Autor')\n",
    "plt.ylabel('Duzina recenice')\n",
    "plt.show()"
   ]
  },
  {
   "cell_type": "code",
   "execution_count": 91,
   "metadata": {},
   "outputs": [],
   "source": [
    "def text_length(words):\n",
    "    return sum(len(word) for word in words)\n",
    "df_train['Duzina teksta'] = df_train['Tokeni'].apply(text_length)\n",
    "df_test['Duzina teksta'] = df_test['Tokeni'].apply(text_length)"
   ]
  },
  {
   "cell_type": "code",
   "execution_count": 92,
   "metadata": {},
   "outputs": [],
   "source": [
    "df_avgTextLength = df_train.groupby('Autor')['Duzina teksta'].mean().reset_index()\n"
   ]
  },
  {
   "cell_type": "code",
   "execution_count": 93,
   "metadata": {},
   "outputs": [
    {
     "data": {
      "image/png": "[encoded data removed]",
      "text/plain": [
       "<Figure size 640x480 with 1 Axes>"
      ]
     },
     "metadata": {},
     "output_type": "display_data"
    }
   ],
   "source": [
    "plt.bar(df_avgTextLength['Autor'], df_avgTextLength['Duzina teksta'], color='orange')\n",
    "plt.xlabel('Autor')\n",
    "plt.ylabel('Duzina teksta')\n",
    "plt.show()"
   ]
  },
  {
   "cell_type": "code",
   "execution_count": 94,
   "metadata": {},
   "outputs": [
    {
     "data": {
      "text/plain": [
       "0.2619047619047619"
      ]
     },
     "execution_count": 94,
     "metadata": {},
     "output_type": "execute_result"
    }
   ],
   "source": [
    "from sklearn.ensemble import RandomForestClassifier\n",
    "from sklearn.metrics import accuracy_score\n",
    "model = RandomForestClassifier(max_depth=5,min_samples_split=15, n_estimators=300)\n",
    "model.fit(df_train[['Duzina reci', 'Duzina recenica', 'Duzina teksta']],df_train['Autor'])\n",
    "y_pred = model.predict(df_test[['Duzina reci', 'Duzina recenica', 'Duzina teksta']])\n",
    "report = accuracy_score(df_test['Autor'], y_pred)\n",
    "report"
   ]
  },
  {
   "cell_type": "code",
   "execution_count": 95,
   "metadata": {},
   "outputs": [
    {
     "data": {
      "text/plain": [
       "0.14285714285714285"
      ]
     },
     "execution_count": 95,
     "metadata": {},
     "output_type": "execute_result"
    }
   ],
   "source": [
    "from sklearn.naive_bayes import MultinomialNB\n",
    "\n",
    "classifierMB = MultinomialNB()\n",
    "#df_random = pd.DataFrame(X_train.toarray(), columns= vectorizer.get_feature_names_out())\n",
    "classifierMB.fit(df_train[['Duzina reci', 'Duzina recenica', 'Duzina teksta']],df_train['Autor'])\n",
    "y_pred = classifierMB.predict(df_test[['Duzina reci','Duzina recenica', 'Duzina teksta']])\n",
    "report = accuracy_score(df_test['Autor'], y_pred)\n",
    "report"
   ]
  },
  {
   "cell_type": "code",
   "execution_count": 100,
   "metadata": {},
   "outputs": [
    {
     "name": "stderr",
     "output_type": "stream",
     "text": [
      "Downloading https://raw.githubusercontent.com/clarinsi/classla-resources/main/resources_1.0.1.json: 10.3kB [00:00, 2.88MB/s]                   \n",
      "2023-12-26 17:03:58 INFO: Downloading these customized packages for language: sr (Serbian)...\n",
      "========================\n",
      "| Processor | Package  |\n",
      "------------------------\n",
      "| tokenize  | standard |\n",
      "| pos       | standard |\n",
      "| lemma     | standard |\n",
      "| depparse  | standard |\n",
      "| ner       | standard |\n",
      "| pretrain  | standard |\n",
      "========================\n",
      "\n",
      "2023-12-26 17:03:58 INFO: File exists: /Users/jelenalazovic/classla_resources/sr/pos/standard.pt.\n",
      "2023-12-26 17:04:00 INFO: File exists: /Users/jelenalazovic/classla_resources/sr/lemma/standard.pt.\n",
      "2023-12-26 17:04:00 INFO: File exists: /Users/jelenalazovic/classla_resources/sr/depparse/standard.pt.\n",
      "2023-12-26 17:04:00 INFO: File exists: /Users/jelenalazovic/classla_resources/sr/ner/standard.pt.\n",
      "2023-12-26 17:04:01 INFO: File exists: /Users/jelenalazovic/classla_resources/sr/pretrain/standard.pt.\n",
      "2023-12-26 17:04:01 INFO: Finished downloading models and saved to /Users/jelenalazovic/classla_resources.\n",
      "2023-12-26 17:04:01 INFO: Loading these models for language: sr (Serbian):\n",
      "========================\n",
      "| Processor | Package  |\n",
      "------------------------\n",
      "| tokenize  | standard |\n",
      "| pos       | standard |\n",
      "========================\n",
      "\n",
      "2023-12-26 17:04:01 INFO: Use device: cpu\n",
      "2023-12-26 17:04:01 INFO: Loading: tokenize\n",
      "2023-12-26 17:04:01 INFO: Loading: pos\n",
      "2023-12-26 17:04:02 INFO: Done loading processors!\n"
     ]
    }
   ],
   "source": [
    "import classla\n",
    "from collections import Counter\n",
    "\n",
    "classla.download('sr')\n",
    "\n",
    "# Initialize the Classla pipeline for Serbian\n",
    "pipeline = classla.Pipeline('sr', processors='tokenize,pos')\n",
    "\n",
    "\n",
    "\n",
    "def count_pos_categories(text):\n",
    "    # Process the text using the Classla pipeline\n",
    "    doc = pipeline(text)\n",
    "\n",
    "    # Extract the POS tags from the processed text and categorize them\n",
    "    pos_tags = [word.xpos for sent in doc.sentences for word in sent.words]\n",
    "\n",
    "    # Count the occurrences of each POS category\n",
    "    pos_category_counts = Counter(pos_tags)\n",
    "\n",
    "    return pos_category_counts\n",
    "\n",
    "\n",
    "# Apply the count_pos_categories function to each row in the DataFrame\n",
    "df_train['POS_Counts'] = df_train['Tekst'].apply(count_pos_categories)\n",
    "df_test['POS_Counts'] = df_test['Tekst'].apply(count_pos_categories)\n",
    "\n",
    "\n",
    "\n",
    "df_pos = df_train.groupby('Autor')['POS_Counts'].sum().reset_index()\n"
   ]
  },
  {
   "cell_type": "code",
   "execution_count": null,
   "metadata": {},
   "outputs": [],
   "source": []
  }
 ],
 "metadata": {
  "kernelspec": {
   "display_name": "Python 3.9.6 64-bit",
   "language": "python",
   "name": "python3"
  },
  "language_info": {
   "codemirror_mode": {
    "name": "ipython",
    "version": 3
   },
   "file_extension": ".py",
   "mimetype": "text/x-python",
   "name": "python",
   "nbconvert_exporter": "python",
   "pygments_lexer": "ipython3",
   "version": "3.9.6"
  },
  "orig_nbformat": 4,
  "vscode": {
   "interpreter": {
    "hash": "31f2aee4e71d21fbe5cf8b01ff0e069b9275f58929596ceb00d14d90e3e16cd6"
   }
  }
 },
 "nbformat": 4,
 "nbformat_minor": 2
}
